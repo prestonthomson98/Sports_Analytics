{
  "nbformat": 4,
  "nbformat_minor": 0,
  "metadata": {
    "colab": {
      "name": "ravens_titans.ipynb",
      "provenance": [],
      "collapsed_sections": []
    },
    "kernelspec": {
      "name": "python3",
      "display_name": "Python 3"
    }
  },
  "cells": [
    {
      "cell_type": "markdown",
      "metadata": {
        "id": "fHDEUHz90zxj"
      },
      "source": [
        "#This Sunday will hold yet another rematch between the Baltimore Ravens and the Tennessee Titans.  Raven's fans desperately want to avoid another Tennessee defeat in their first playoff game.   I wanted to figure out whether this was likely and how it could be done.\r\n",
        "\r\n"
      ]
    },
    {
      "cell_type": "markdown",
      "metadata": {
        "id": "KOI0aS4yhdt-"
      },
      "source": [
        "Let's collect all of the imports we need and compile everything we will need for scraping data as well as a few other methods we will need later on. Thank you to stathead.com for making data colletion much easier.  If you want to run this code on your own, you will need your own stathead username and password.  "
      ]
    },
    {
      "cell_type": "code",
      "metadata": {
        "id": "ig2E7qlPRK8a"
      },
      "source": [
        "import pandas as pd\r\n",
        "import math\r\n",
        "import numpy as np\r\n",
        "import matplotlib.pyplot as plt\r\n",
        "import matplotlib.ticker as mticker \r\n",
        "from matplotlib.ticker import MaxNLocator\r\n",
        "from bs4 import BeautifulSoup\r\n",
        "from lxml import html\r\n",
        "import requests \r\n",
        "import datetime as dt\r\n",
        "from sklearn.linear_model import LinearRegression\r\n",
        "from sklearn.model_selection import KFold\r\n",
        "from dateutil import parser"
      ],
      "execution_count": null,
      "outputs": []
    },
    {
      "cell_type": "code",
      "metadata": {
        "id": "1CFH6sotcscA"
      },
      "source": [
        "import sklearn.metrics as metrics\r\n",
        "def regression_results(y_true, y_pred):\r\n",
        "\r\n",
        "    # Regression metrics\r\n",
        "    explained_variance=metrics.explained_variance_score(y_true, y_pred)\r\n",
        "    mean_absolute_error=metrics.mean_absolute_error(y_true, y_pred) \r\n",
        "    mse=metrics.mean_squared_error(y_true, y_pred) \r\n",
        "    mean_squared_log_error=metrics.mean_squared_log_error(y_true, y_pred)\r\n",
        "    median_absolute_error=metrics.median_absolute_error(y_true, y_pred)\r\n",
        "    r2=metrics.r2_score(y_true, y_pred)\r\n",
        "\r\n",
        "    print('explained_variance: ', round(explained_variance,4))    \r\n",
        "    print('mean_squared_log_error: ', round(mean_squared_log_error,4))\r\n",
        "    print('r2: ', round(r2,4))\r\n",
        "    print('MAE: ', round(mean_absolute_error,4))\r\n",
        "    print('MSE: ', round(mse,4))\r\n",
        "    print('RMSE: ', round(np.sqrt(mse),4))\r\n"
      ],
      "execution_count": null,
      "outputs": []
    },
    {
      "cell_type": "code",
      "metadata": {
        "id": "YGKtXinA5Gzf"
      },
      "source": [
        "#Create a session for data scraping\r\n",
        "session = requests.Session()\r\n",
        "\r\n",
        "#login to stathead to \r\n",
        "login_url = 'https://stathead.com/users/login.cgi'\r\n",
        "\r\n",
        "login_info = {\r\n",
        "    \"username\": #statheadusername,\r\n",
        "    \"password\": #statheadpassword\r\n",
        "}\r\n",
        "\r\n",
        "s = session.post(login_url, data = login_info)"
      ],
      "execution_count": null,
      "outputs": []
    },
    {
      "cell_type": "code",
      "metadata": {
        "id": "oqZiiBgcRcKJ"
      },
      "source": [
        "def get_df(link,table_number):\r\n",
        "  s = session.get(link)\r\n",
        "  text = s.text \r\n",
        "  soup = BeautifulSoup(text,'lxml')\r\n",
        "  table = soup.find_all('table')[table_number]\r\n",
        "  table_str = str(table)\r\n",
        "  df = pd.read_html(table_str)[0]\r\n",
        "  return df\r\n",
        "\r\n",
        "def clean_headers(df):\r\n",
        "  df.columns = pd.MultiIndex.from_tuples([('General',y) if 'Unnamed' in x else (x,y) for (x,y) in df.columns])\r\n",
        "  df.rename(columns = {\"Unnamed: 6_level_1\":\"At\"},inplace=True)\r\n",
        "  return df"
      ],
      "execution_count": null,
      "outputs": []
    },
    {
      "cell_type": "markdown",
      "metadata": {
        "id": "kaNO--TK3zEP"
      },
      "source": [
        "A very long time ago, all the way back to the beginning of the nightmare of a year that was 2020, Baltimore's 14-2 regular season was abruptly ended in the divisional round of the playoffs by Derrick Henry and the Tennessee Titans.  The game felt like an absolute mismatch at the time, but after rewatching the highlights, it didn't look like the brutal onslaught I had remembered.  Instead, it felt like a game Baltimore could have won if they would have been able to weed out some very costly mistakes.\r\n",
        "\r\n",
        "\r\n",
        "\r\n",
        "\r\n",
        "\r\n"
      ]
    },
    {
      "cell_type": "markdown",
      "metadata": {
        "id": "enzTm5mZ81to"
      },
      "source": [
        "\r\n",
        "#1) Turnovers\r\n",
        "\r\n",
        "The first of these mistakes was turnovers.  Lamar Jackon threw 2 interceptions and fumbled once in that playoff game.  The first interception, caught by Kevin Byard after a slightly high bullet pass bounced off the hands of Mark Andrews, really seemd to set the tone of the game in the first quarter.  Let's take a look at Lamar Jackson's turnover stats over the last two season to see if this is likey to remain a problem.    "
      ]
    },
    {
      "cell_type": "code",
      "metadata": {
        "colab": {
          "base_uri": "https://localhost:8080/",
          "height": 352
        },
        "id": "7oZQgXTO0jA5",
        "outputId": "065d9297-bf37-4d66-c4f6-07178150a0c4"
      },
      "source": [
        "lamar_jackson_2019 = clean_headers(get_df('https://www.pro-football-reference.com/players/J/JackLa00/gamelog/2019/',0)).append(clean_headers(get_df('https://www.pro-football-reference.com/players/J/JackLa00/gamelog/2019/',1)))\r\n",
        "lamar_jackson_2020 = clean_headers(get_df('https://www.pro-football-reference.com/players/J/JackLa00/gamelog/2020/',0))\r\n",
        "\r\n",
        "lamar_jackson_1920 = pd.concat([lamar_jackson_2019,lamar_jackson_2020])\r\n",
        "\r\n",
        "lamar_jackson_1920 = lamar_jackson_1920[lamar_jackson_1920[('General','Rk')].notnull()]\r\n",
        "\r\n",
        "lamar_jackson_1920[('Off. Snaps','Turnovers')] = lamar_jackson_1920[('Passing','Int')] + lamar_jackson_1920[('Fumbles','FL')]\r\n",
        "\r\n",
        "lamar_jackson_1920[('General','At')] = ['H' if str(x) == 'nan' else x for x in lamar_jackson_1920[('General','At')]]\r\n",
        "\r\n",
        "display(lamar_jackson_1920.head(5))"
      ],
      "execution_count": null,
      "outputs": [
        {
          "output_type": "display_data",
          "data": {
            "text/html": [
              "<div>\n",
              "<style scoped>\n",
              "    .dataframe tbody tr th:only-of-type {\n",
              "        vertical-align: middle;\n",
              "    }\n",
              "\n",
              "    .dataframe tbody tr th {\n",
              "        vertical-align: top;\n",
              "    }\n",
              "\n",
              "    .dataframe thead tr th {\n",
              "        text-align: left;\n",
              "    }\n",
              "</style>\n",
              "<table border=\"1\" class=\"dataframe\">\n",
              "  <thead>\n",
              "    <tr>\n",
              "      <th></th>\n",
              "      <th colspan=\"2\" halign=\"left\">Def. Snaps</th>\n",
              "      <th colspan=\"6\" halign=\"left\">Fumbles</th>\n",
              "      <th colspan=\"10\" halign=\"left\">General</th>\n",
              "      <th colspan=\"2\" halign=\"left\">Off. Snaps</th>\n",
              "      <th colspan=\"11\" halign=\"left\">Passing</th>\n",
              "      <th colspan=\"4\" halign=\"left\">Rushing</th>\n",
              "      <th colspan=\"2\" halign=\"left\">ST Snaps</th>\n",
              "      <th colspan=\"2\" halign=\"left\">Scoring</th>\n",
              "      <th>Off. Snaps</th>\n",
              "    </tr>\n",
              "    <tr>\n",
              "      <th></th>\n",
              "      <th>Num</th>\n",
              "      <th>Pct</th>\n",
              "      <th>FF</th>\n",
              "      <th>FL</th>\n",
              "      <th>FR</th>\n",
              "      <th>Fmb</th>\n",
              "      <th>TD</th>\n",
              "      <th>Yds</th>\n",
              "      <th>Age</th>\n",
              "      <th>At</th>\n",
              "      <th>Date</th>\n",
              "      <th>G#</th>\n",
              "      <th>GS</th>\n",
              "      <th>Opp</th>\n",
              "      <th>Result</th>\n",
              "      <th>Rk</th>\n",
              "      <th>Tm</th>\n",
              "      <th>Week</th>\n",
              "      <th>Num</th>\n",
              "      <th>Pct</th>\n",
              "      <th>AY/A</th>\n",
              "      <th>Att</th>\n",
              "      <th>Cmp</th>\n",
              "      <th>Cmp%</th>\n",
              "      <th>Int</th>\n",
              "      <th>Rate</th>\n",
              "      <th>Sk</th>\n",
              "      <th>TD</th>\n",
              "      <th>Y/A</th>\n",
              "      <th>Yds</th>\n",
              "      <th>Yds.1</th>\n",
              "      <th>Att</th>\n",
              "      <th>TD</th>\n",
              "      <th>Y/A</th>\n",
              "      <th>Yds</th>\n",
              "      <th>Num</th>\n",
              "      <th>Pct</th>\n",
              "      <th>Pts</th>\n",
              "      <th>TD</th>\n",
              "      <th>Turnovers</th>\n",
              "    </tr>\n",
              "  </thead>\n",
              "  <tbody>\n",
              "    <tr>\n",
              "      <th>0</th>\n",
              "      <td>0.0</td>\n",
              "      <td>0%</td>\n",
              "      <td>0</td>\n",
              "      <td>0</td>\n",
              "      <td>0</td>\n",
              "      <td>0</td>\n",
              "      <td>0</td>\n",
              "      <td>0</td>\n",
              "      <td>22.244</td>\n",
              "      <td>@</td>\n",
              "      <td>2019-09-08</td>\n",
              "      <td>1.0</td>\n",
              "      <td>*</td>\n",
              "      <td>MIA</td>\n",
              "      <td>W 59-10</td>\n",
              "      <td>1.0</td>\n",
              "      <td>BAL</td>\n",
              "      <td>1.0</td>\n",
              "      <td>53.0</td>\n",
              "      <td>70%</td>\n",
              "      <td>21.20</td>\n",
              "      <td>20</td>\n",
              "      <td>17</td>\n",
              "      <td>85.00</td>\n",
              "      <td>0</td>\n",
              "      <td>158.3</td>\n",
              "      <td>1</td>\n",
              "      <td>5</td>\n",
              "      <td>16.20</td>\n",
              "      <td>324</td>\n",
              "      <td>1</td>\n",
              "      <td>3</td>\n",
              "      <td>0</td>\n",
              "      <td>2.00</td>\n",
              "      <td>6</td>\n",
              "      <td>0.0</td>\n",
              "      <td>0%</td>\n",
              "      <td>0.0</td>\n",
              "      <td>0.0</td>\n",
              "      <td>0</td>\n",
              "    </tr>\n",
              "    <tr>\n",
              "      <th>1</th>\n",
              "      <td>0.0</td>\n",
              "      <td>0%</td>\n",
              "      <td>0</td>\n",
              "      <td>0</td>\n",
              "      <td>0</td>\n",
              "      <td>0</td>\n",
              "      <td>0</td>\n",
              "      <td>0</td>\n",
              "      <td>22.251</td>\n",
              "      <td>H</td>\n",
              "      <td>2019-09-15</td>\n",
              "      <td>2.0</td>\n",
              "      <td>*</td>\n",
              "      <td>ARI</td>\n",
              "      <td>W 23-17</td>\n",
              "      <td>2.0</td>\n",
              "      <td>BAL</td>\n",
              "      <td>2.0</td>\n",
              "      <td>77.0</td>\n",
              "      <td>100%</td>\n",
              "      <td>8.43</td>\n",
              "      <td>37</td>\n",
              "      <td>24</td>\n",
              "      <td>64.86</td>\n",
              "      <td>0</td>\n",
              "      <td>104.8</td>\n",
              "      <td>2</td>\n",
              "      <td>2</td>\n",
              "      <td>7.35</td>\n",
              "      <td>272</td>\n",
              "      <td>14</td>\n",
              "      <td>16</td>\n",
              "      <td>0</td>\n",
              "      <td>7.50</td>\n",
              "      <td>120</td>\n",
              "      <td>0.0</td>\n",
              "      <td>0%</td>\n",
              "      <td>0.0</td>\n",
              "      <td>0.0</td>\n",
              "      <td>0</td>\n",
              "    </tr>\n",
              "    <tr>\n",
              "      <th>2</th>\n",
              "      <td>0.0</td>\n",
              "      <td>0%</td>\n",
              "      <td>0</td>\n",
              "      <td>0</td>\n",
              "      <td>0</td>\n",
              "      <td>0</td>\n",
              "      <td>0</td>\n",
              "      <td>0</td>\n",
              "      <td>22.258</td>\n",
              "      <td>@</td>\n",
              "      <td>2019-09-22</td>\n",
              "      <td>3.0</td>\n",
              "      <td>*</td>\n",
              "      <td>KAN</td>\n",
              "      <td>L 28-33</td>\n",
              "      <td>3.0</td>\n",
              "      <td>BAL</td>\n",
              "      <td>3.0</td>\n",
              "      <td>82.0</td>\n",
              "      <td>100%</td>\n",
              "      <td>6.21</td>\n",
              "      <td>43</td>\n",
              "      <td>22</td>\n",
              "      <td>51.16</td>\n",
              "      <td>0</td>\n",
              "      <td>70.6</td>\n",
              "      <td>3</td>\n",
              "      <td>0</td>\n",
              "      <td>6.21</td>\n",
              "      <td>267</td>\n",
              "      <td>18</td>\n",
              "      <td>8</td>\n",
              "      <td>1</td>\n",
              "      <td>5.75</td>\n",
              "      <td>46</td>\n",
              "      <td>0.0</td>\n",
              "      <td>0%</td>\n",
              "      <td>6.0</td>\n",
              "      <td>1.0</td>\n",
              "      <td>0</td>\n",
              "    </tr>\n",
              "    <tr>\n",
              "      <th>3</th>\n",
              "      <td>0.0</td>\n",
              "      <td>0%</td>\n",
              "      <td>0</td>\n",
              "      <td>0</td>\n",
              "      <td>0</td>\n",
              "      <td>1</td>\n",
              "      <td>0</td>\n",
              "      <td>-3</td>\n",
              "      <td>22.265</td>\n",
              "      <td>H</td>\n",
              "      <td>2019-09-29</td>\n",
              "      <td>4.0</td>\n",
              "      <td>*</td>\n",
              "      <td>CLE</td>\n",
              "      <td>L 25-40</td>\n",
              "      <td>4.0</td>\n",
              "      <td>BAL</td>\n",
              "      <td>4.0</td>\n",
              "      <td>70.0</td>\n",
              "      <td>100%</td>\n",
              "      <td>6.38</td>\n",
              "      <td>34</td>\n",
              "      <td>24</td>\n",
              "      <td>70.59</td>\n",
              "      <td>2</td>\n",
              "      <td>96.1</td>\n",
              "      <td>4</td>\n",
              "      <td>3</td>\n",
              "      <td>7.26</td>\n",
              "      <td>247</td>\n",
              "      <td>25</td>\n",
              "      <td>9</td>\n",
              "      <td>0</td>\n",
              "      <td>7.33</td>\n",
              "      <td>66</td>\n",
              "      <td>0.0</td>\n",
              "      <td>0%</td>\n",
              "      <td>0.0</td>\n",
              "      <td>0.0</td>\n",
              "      <td>2</td>\n",
              "    </tr>\n",
              "    <tr>\n",
              "      <th>4</th>\n",
              "      <td>0.0</td>\n",
              "      <td>0%</td>\n",
              "      <td>0</td>\n",
              "      <td>0</td>\n",
              "      <td>1</td>\n",
              "      <td>1</td>\n",
              "      <td>0</td>\n",
              "      <td>0</td>\n",
              "      <td>22.272</td>\n",
              "      <td>@</td>\n",
              "      <td>2019-10-06</td>\n",
              "      <td>5.0</td>\n",
              "      <td>*</td>\n",
              "      <td>PIT</td>\n",
              "      <td>W 26-23</td>\n",
              "      <td>5.0</td>\n",
              "      <td>BAL</td>\n",
              "      <td>5.0</td>\n",
              "      <td>79.0</td>\n",
              "      <td>100%</td>\n",
              "      <td>1.64</td>\n",
              "      <td>28</td>\n",
              "      <td>19</td>\n",
              "      <td>67.86</td>\n",
              "      <td>3</td>\n",
              "      <td>54.9</td>\n",
              "      <td>5</td>\n",
              "      <td>1</td>\n",
              "      <td>5.75</td>\n",
              "      <td>161</td>\n",
              "      <td>22</td>\n",
              "      <td>14</td>\n",
              "      <td>0</td>\n",
              "      <td>5.00</td>\n",
              "      <td>70</td>\n",
              "      <td>0.0</td>\n",
              "      <td>0%</td>\n",
              "      <td>0.0</td>\n",
              "      <td>0.0</td>\n",
              "      <td>3</td>\n",
              "    </tr>\n",
              "  </tbody>\n",
              "</table>\n",
              "</div>"
            ],
            "text/plain": [
              "  Def. Snaps     Fumbles            ... Rushing ST Snaps     Scoring      Off. Snaps\n",
              "         Num Pct      FF FL FR Fmb  ...     Yds      Num Pct     Pts   TD  Turnovers\n",
              "0        0.0  0%       0  0  0   0  ...       6      0.0  0%     0.0  0.0          0\n",
              "1        0.0  0%       0  0  0   0  ...     120      0.0  0%     0.0  0.0          0\n",
              "2        0.0  0%       0  0  0   0  ...      46      0.0  0%     6.0  1.0          0\n",
              "3        0.0  0%       0  0  0   1  ...      66      0.0  0%     0.0  0.0          2\n",
              "4        0.0  0%       0  0  1   1  ...      70      0.0  0%     0.0  0.0          3\n",
              "\n",
              "[5 rows x 40 columns]"
            ]
          },
          "metadata": {
            "tags": []
          }
        }
      ]
    },
    {
      "cell_type": "markdown",
      "metadata": {
        "id": "3HErHa0yva4t"
      },
      "source": [
        "\r\n",
        "I decided to create a multiple regression model to predict Lamar Jacksons turnovers.  I used the games date, nfl week, away status and a onehot encoding of the opposing team as the independent variables and came up with a model that predicts with about a 50% mean squared error rate.  Unfortunately, due to Jackson's limited time in the league, it is difficult to create a truly predictive model for his statline due to a lack of data.  \r\n"
      ]
    },
    {
      "cell_type": "code",
      "metadata": {
        "colab": {
          "base_uri": "https://localhost:8080/",
          "height": 394
        },
        "id": "kY-zHM1KBr7C",
        "outputId": "c7947aa3-d246-4e22-c5e2-22ffd4114b51"
      },
      "source": [
        "dates = pd.to_datetime(lamar_jackson_1920[('General','Date')])\r\n",
        "dates = dates.map(dt.datetime.toordinal)\r\n",
        "away_binary = [0 if x == 'H' else 1 for x in lamar_jackson_1920[('General','At')]]\r\n",
        "opp = lamar_jackson_1920[('General','Opp')]\r\n",
        "\r\n",
        "onehot_lamar = pd.get_dummies(lamar_jackson_1920, columns=[('General','Opp')], prefix='onehot')\r\n",
        "weeks = onehot_lamar[('General','Week')]\r\n",
        "\r\n",
        "encodings = onehot_lamar.iloc[:,39:62]\r\n",
        "stack = np.column_stack((dates,away_binary,weeks))\r\n",
        "\r\n",
        "X = np.append(stack,encodings,axis=1)\r\n",
        "X = pd.DataFrame(X)\r\n",
        "y = pd.DataFrame(lamar_jackson_1920[('Off. Snaps','Turnovers')])\r\n",
        "model = LinearRegression()\r\n",
        "scores = []\r\n",
        "kfold = KFold(n_splits=3, shuffle=True, random_state=40)\r\n",
        "\r\n",
        "\r\n",
        "for i, (train, test) in enumerate(kfold.split(X,y)):\r\n",
        "  model.fit(X.iloc[train,:], y.iloc[train,:])\r\n",
        "  score = model.score(X.iloc[test,:],y.iloc[test,:])\r\n",
        "  scores.append(score)\r\n",
        "\r\n",
        "pred_y = model.predict(X)\r\n",
        "\r\n",
        "pred_y = [np.zeros(1) if x < 0 else x for x in pred_y]\r\n",
        "\r\n",
        "\r\n",
        "ax = plt.figure().gca()\r\n",
        "x = lamar_jackson_1920[('General','Date')].values\r\n",
        "y = lamar_jackson_1920[('Off. Snaps','Turnovers')].values\r\n",
        "tms = lamar_jackson_1920[('General','Opp')].values.astype(str)\r\n",
        "plt.plot(x,y)\r\n",
        "plt.plot(x,pred_y)\r\n",
        "plt.xlabel('Date')\r\n",
        "plt.ylabel('Turnovers')\r\n",
        "plt.title('Lamar Jackson Regular Season Turnovers')\r\n",
        "i = 0\r\n",
        "for txt in tms:\r\n",
        "  ax.annotate(txt, (x[i], y[i]))\r\n",
        "  i += 1\r\n",
        "ax.set_xticklabels([])\r\n",
        "plt.show()\r\n",
        "\r\n",
        "\r\n",
        "regression_results(y,pred_y)"
      ],
      "execution_count": null,
      "outputs": [
        {
          "output_type": "display_data",
          "data": {
            "image/png": "[encoded data removed]",
            "text/plain": [
              "<Figure size 432x288 with 1 Axes>"
            ]
          },
          "metadata": {
            "tags": [],
            "needs_background": "light"
          }
        },
        {
          "output_type": "stream",
          "text": [
            "explained_variance:  0.7669\n",
            "mean_squared_log_error:  0.1033\n",
            "r2:  0.7494\n",
            "MAE:  0.3653\n",
            "MSE:  0.254\n",
            "RMSE:  0.504\n"
          ],
          "name": "stdout"
        }
      ]
    },
    {
      "cell_type": "markdown",
      "metadata": {
        "id": "xfloeDZtxCaY"
      },
      "source": [
        "We can now use our model to predict Lamar Jackson's turnovers in the Titan's game this weekend.  "
      ]
    },
    {
      "cell_type": "code",
      "metadata": {
        "id": "0pExTET2CIHR",
        "colab": {
          "base_uri": "https://localhost:8080/"
        },
        "outputId": "fcfd512b-6339-4445-9db8-eb1c06110b01"
      },
      "source": [
        "ten_df = onehot_lamar[onehot_lamar['onehot_TEN'] == 1]\r\n",
        "encodings = ten_df.iloc[0:1,39:62]\r\n",
        "date = [pd.to_datetime(\"2021-01-10\").toordinal()]\r\n",
        "week = [18]\r\n",
        "away = [1]\r\n",
        "stack = np.column_stack((date,away,week))\r\n",
        "X = np.append(stack,encodings,axis=1)\r\n",
        "\r\n",
        "X = pd.DataFrame(X)\r\n",
        "\r\n",
        "pred_y = model.predict(X)\r\n",
        "\r\n",
        "print(\"Lamar Jackson's predicted number of turnovers against the Titans: \" + str(pred_y[0,0]))"
      ],
      "execution_count": null,
      "outputs": [
        {
          "output_type": "stream",
          "text": [
            "Lamar Jackson's predicted number of turnovers against the Titans: 1.4550334784019014\n"
          ],
          "name": "stdout"
        }
      ]
    },
    {
      "cell_type": "markdown",
      "metadata": {
        "id": "GqI74X7I5mvb"
      },
      "source": [
        "According to our model, Lamar Jackson is likely to have about 1.5 turnovers.  Much better than then the 3 turnovers suffered against the Titan's in last season's divisional playoff round.  "
      ]
    },
    {
      "cell_type": "markdown",
      "metadata": {
        "id": "k670cN5-4Dwk"
      },
      "source": [
        "#2) Derrick Henry\r\n",
        "\r\n",
        "There is simply no way around it: Derrick Henry is an absolute machine.  Henry looked like a man amongst boys last year with nearly 200 rushing yards and an impressive trick play which earned him a passing TD.  He is, the clear and obvious nfl rushing leader this season with a total of 2027 yards and 17 touchdowns per nfl.com.  Handing Derrick Henry must be a priority for the Batimore defense.  Lets take a look at Derrick Henry's game to see how this could be done."
      ]
    },
    {
      "cell_type": "code",
      "metadata": {
        "id": "uGkAi0AQRolg"
      },
      "source": [
        "henry_plays_2020 = get_df('https://stathead.com/football/play_finder.cgi?request=1&match=all&sb=0&order_by_asc=0&order_by=yards&player_id_hint=Derrick+Henry&player_id_select=Derrick+Henry&player_id=HenrDe00&year_min=2020&year_max=2020&game_type=E&game_num_min=0&game_num_max=99&week_num_min=0&week_num_max=99&quarter%5B%5D=1&quarter%5B%5D=2&quarter%5B%5D=3&quarter%5B%5D=4&quarter%5B%5D=5&minutes_max=15&seconds_max=0&minutes_min=0&seconds_min=0&down%5B%5D=0&down%5B%5D=1&down%5B%5D=2&down%5B%5D=3&down%5B%5D=4&field_pos_min_field=team&field_pos_max_field=team&end_field_pos_min_field=team&end_field_pos_max_field=team&type%5B%5D=PASS&type%5B%5D=RUSH&type%5B%5D=PUNT&type%5B%5D=KOFF&type%5B%5D=ONSD&type%5B%5D=FG&type%5B%5D=XP&type%5B%5D=2PC&no_play=N&turnover_type%5B%5D=interception&turnover_type%5B%5D=fumble&score_type%5B%5D=touchdown&score_type%5B%5D=field_goal&score_type%5B%5D=safety&rush_direction%5B%5D=LE&rush_direction%5B%5D=LT&rush_direction%5B%5D=LG&rush_direction%5B%5D=M&rush_direction%5B%5D=RG&rush_direction%5B%5D=RT&rush_direction%5B%5D=RE&pass_location%5B%5D=SL&pass_location%5B%5D=SM&pass_location%5B%5D=SR&pass_location%5B%5D=DL&pass_location%5B%5D=DM&pass_location%5B%5D=DR',4)"
      ],
      "execution_count": null,
      "outputs": []
    },
    {
      "cell_type": "code",
      "metadata": {
        "colab": {
          "base_uri": "https://localhost:8080/",
          "height": 573
        },
        "id": "chKov-nES9Ib",
        "outputId": "46e94a9c-6ba7-4745-a192-0bd48ccb9cee"
      },
      "source": [
        "import re\r\n",
        "\r\n",
        "def find_rush_details(s):\r\n",
        "  position = \"\"\r\n",
        "  gain = 0\r\n",
        "  if 'middle' in s:\r\n",
        "    position = 'middle'\r\n",
        "  elif 'left end' in s:\r\n",
        "    position = 'left end'\r\n",
        "  elif 'left tackle' in s:\r\n",
        "    position = 'left tackle'\r\n",
        "  elif 'left guard' in s:\r\n",
        "    position = 'left guard'\r\n",
        "  elif 'right guard' in s:\r\n",
        "    position = 'right guard'\r\n",
        "  elif 'right tackle' in s:\r\n",
        "    position = 'right tackle'\r\n",
        "  elif 'right end' in s:\r\n",
        "    position = 'right end'\r\n",
        "  else: \r\n",
        "    position = 'pass'\r\n",
        "  yds = re.compile(r\"[+-]?\\d+\")\r\n",
        "  matches = yds.search(s)\r\n",
        "  if matches is not None:\r\n",
        "    gain = matches.group(0)\r\n",
        "  return [position,gain]\r\n",
        "\r\n",
        "  \r\n",
        "\r\n",
        "henry_rushes = [find_rush_details(x) for x in henry_plays_2020['Detail']]\r\n",
        "henry_rushes = pd.DataFrame(np.array(henry_rushes),columns=['direction','gain'])\r\n",
        "\r\n",
        "henry_rushes = pd.concat([henry_plays_2020,henry_rushes], axis=1)\r\n",
        "counts = henry_rushes['direction'].value_counts()\r\n",
        "\r\n",
        "\r\n",
        "labels = ['left end', 'left tackle', 'left guard', 'middle', 'right guard', 'right tackle', 'right end','pass']\r\n",
        "\r\n",
        "Y = [counts[3],counts[2],counts[5],counts[0],counts[7],counts[4],counts[1],counts[6]]\r\n",
        "sums = np.sum(Y)\r\n",
        "Y = list(map(lambda x: (x/sums) * 100,Y))\r\n",
        "ax = plt.figure().gca()\r\n",
        "ax.bar(labels,Y)\r\n",
        "ax.set_ylabel('Percentage of Total')\r\n",
        "ax.set_xlabel('Direction of Rush')\r\n",
        "ax.set_title('Henry Rushing Distribution')\r\n",
        "\r\n",
        "def is_success(row):\r\n",
        "  if row['ToGo'] <= row['Yds']:\r\n",
        "    return 1\r\n",
        "  if row['Down'] == 1:\r\n",
        "    if row['ToGo'] * .4 <= row['Yds']:\r\n",
        "      return 1\r\n",
        "  if row['Down'] == 2:\r\n",
        "     if row['ToGo'] * .6 <= row['Yds']:\r\n",
        "       return 1\r\n",
        "  return 0\r\n",
        "\r\n",
        "henry_rushes['success'] = [is_success(row) for index, row in henry_rushes.iterrows()]\r\n",
        "\r\n",
        "def find_success_ratio(df,label):\r\n",
        "  df = df[df['direction'] == label]\r\n",
        "  return df['success'].sum()/len(df) \r\n",
        "\r\n",
        "avgs = [find_success_ratio(henry_rushes,label) for label in labels]\r\n",
        "\r\n",
        "sums = np.sum(Y)\r\n",
        "Y = list(map(lambda x: (x/sums) * 100,Y))\r\n",
        "ax = plt.figure().gca()\r\n",
        "ax.bar(labels,avgs)\r\n",
        "ax.set_ylabel('Success Rate')\r\n",
        "ax.set_xlabel('Direction of Rush')\r\n",
        "t = ax.set_title('Henry Success Rate by Direction')\r\n"
      ],
      "execution_count": null,
      "outputs": [
        {
          "output_type": "display_data",
          "data": {
            "image/png": "[encoded data removed]",
            "text/plain": [
              "<Figure size 432x288 with 1 Axes>"
            ]
          },
          "metadata": {
            "tags": [],
            "needs_background": "light"
          }
        },
        {
          "output_type": "display_data",
          "data": {
            "image/png": "[encoded data removed]",
            "text/plain": [
              "<Figure size 432x288 with 1 Axes>"
            ]
          },
          "metadata": {
            "tags": [],
            "needs_background": "light"
          }
        }
      ]
    },
    {
      "cell_type": "markdown",
      "metadata": {
        "id": "Z2GW7RBh6g7O"
      },
      "source": [
        "Here I plotted two bar graphs: one visualing the distribution of Henry's rush attempts by direction, and the other visualizing Henry's success rate by direction. (A play is condidered successful when it results in a gain of 40% of yards to go on first down, 60% of yards to go on second down, or 100% of yards to go on third/fourth down.)  You can see from the bar graphs, that Derrick Henry slightly favors the right side of the field and has greater success on average when he runs in that direction.  Don Martindale and the Raven's Defense could choose to counter this by shifting the Defensive line slightly to the right and employing the secondary to stop large runs coming from the left.  This will likely be most effective on second or third and short opportunites.  First downs may provide a different situation."
      ]
    },
    {
      "cell_type": "code",
      "metadata": {
        "colab": {
          "base_uri": "https://localhost:8080/",
          "height": 591
        },
        "id": "kYPrQ1Yo4dJq",
        "outputId": "daf1278d-4632-45cf-83df-bba4b138f3f0"
      },
      "source": [
        "\r\n",
        "henry_first_down = henry_rushes[henry_rushes['Down']==1]\r\n",
        "\r\n",
        "counts = henry_first_down['direction'].value_counts()\r\n",
        "\r\n",
        "\r\n",
        "labels = ['left end', 'left tackle', 'left guard', 'middle', 'right guard', 'right tackle', 'right end','pass']\r\n",
        "\r\n",
        "Y = [counts[1],counts[3],counts[5],counts[0],counts[6],counts[4],counts[2],counts[7]]\r\n",
        "sums = np.sum(Y)\r\n",
        "Y = list(map(lambda x: (x/sums) * 100,Y))\r\n",
        "ax = plt.figure().gca()\r\n",
        "ax.bar(labels,Y)\r\n",
        "ax.set_ylabel('Percentage of Total')\r\n",
        "ax.set_xlabel('Direction of Rush')\r\n",
        "ax.set_title('Henry Rushing Distribution on First Down')\r\n",
        "\r\n",
        "\r\n",
        "\r\n",
        "\r\n",
        "avgs = [find_success_ratio(henry_first_down,label) for label in labels]\r\n",
        "sums = np.sum(Y)\r\n",
        "Y = list(map(lambda x: (x/sums) * 100,Y))\r\n",
        "ax = plt.figure().gca()\r\n",
        "ax.bar(labels,avgs)\r\n",
        "ax.set_ylabel('Success Rate')\r\n",
        "ax.set_xlabel('Direction of Rush')\r\n",
        "ax.set_title('Henry Success Rate by Direction on First Down')"
      ],
      "execution_count": null,
      "outputs": [
        {
          "output_type": "execute_result",
          "data": {
            "text/plain": [
              "Text(0.5, 1.0, 'Henry Success Rate by Direction on First Down')"
            ]
          },
          "metadata": {
            "tags": []
          },
          "execution_count": 31
        },
        {
          "output_type": "display_data",
          "data": {
            "image/png": "[encoded data removed]",
            "text/plain": [
              "<Figure size 432x288 with 1 Axes>"
            ]
          },
          "metadata": {
            "tags": [],
            "needs_background": "light"
          }
        },
        {
          "output_type": "display_data",
          "data": {
            "image/png": "[encoded data removed]",
            "text/plain": [
              "<Figure size 432x288 with 1 Axes>"
            ]
          },
          "metadata": {
            "tags": [],
            "needs_background": "light"
          }
        }
      ]
    },
    {
      "cell_type": "markdown",
      "metadata": {
        "id": "ZTZK-Fzi01gO"
      },
      "source": [
        "You can see here that specifically on first down, Henry is very unpredictable. Because of the increased distribution of runs on the left side of the field, a shift over to the right would likely be less successful.  I think on first down, the Baltimore defensive line would be best served staying central and trying to stuff runs of the middle while relying on wide line backers and corners to keep edge runs from popping off for large yardage.  This would force second and medium situations where Henry actually starts to become slightly more predictable.   "
      ]
    },
    {
      "cell_type": "code",
      "metadata": {
        "colab": {
          "base_uri": "https://localhost:8080/",
          "height": 573
        },
        "id": "43h2jFx4_27M",
        "outputId": "b23d0d07-e0fc-48b3-887c-4b7304390b85"
      },
      "source": [
        "henry_sec_med = henry_rushes[henry_rushes['Down'] == 2]\r\n",
        "henry_sec_med = henry_sec_med[henry_sec_med['ToGo'] >= 5]\r\n",
        "counts = henry_sec_med['direction'].value_counts()\r\n",
        "\r\n",
        "labels = ['left end', 'left tackle', 'left guard', 'middle', 'right guard', 'right tackle', 'right end','pass']\r\n",
        "\r\n",
        "Y = [counts[5],counts[4],counts[7],counts[0],counts[6],counts[1],counts[3],counts[2]]\r\n",
        "sums = np.sum(Y)\r\n",
        "Y = list(map(lambda x: (x/sums) * 100,Y))\r\n",
        "ax = plt.figure().gca()\r\n",
        "ax.bar(labels,Y)\r\n",
        "ax.set_ylabel('Percentage of Total')\r\n",
        "ax.set_xlabel('Direction of Rush')\r\n",
        "ax.set_title('Henry Rushing Distribution on Second and Medium')\r\n",
        "\r\n",
        "\r\n",
        "avgs = [find_success_ratio(henry_sec_med,label) for label in labels]\r\n",
        "sums = np.sum(Y)\r\n",
        "Y = list(map(lambda x: (x/sums) * 100,Y))\r\n",
        "ax = plt.figure().gca()\r\n",
        "ax.bar(labels,avgs)\r\n",
        "ax.set_ylabel('Success Rate')\r\n",
        "ax.set_xlabel('Direction of Rush')\r\n",
        "t = ax.set_title('Henry Success Rate by Direction on Second and Medium')"
      ],
      "execution_count": 37,
      "outputs": [
        {
          "output_type": "display_data",
          "data": {
            "image/png": "[encoded data removed]",
            "text/plain": [
              "<Figure size 432x288 with 1 Axes>"
            ]
          },
          "metadata": {
            "tags": [],
            "needs_background": "light"
          }
        },
        {
          "output_type": "display_data",
          "data": {
            "image/png": "[encoded data removed]",
            "text/plain": [
              "<Figure size 432x288 with 1 Axes>"
            ]
          },
          "metadata": {
            "tags": [],
            "needs_background": "light"
          }
        }
      ]
    },
    {
      "cell_type": "markdown",
      "metadata": {
        "id": "JKtHrU8PQENL"
      },
      "source": [
        "Although Henry tends to be successful when making runs toward the left end on second and medium/long situations he seems to favor the right side of the field somewhat strongly.  Therefore, my original suggestion to shift the defensive line to the right and rely on the secondary to stop large runs on the left may be the best option.  "
      ]
    },
    {
      "cell_type": "markdown",
      "metadata": {
        "id": "qOPeIBxhRfqU"
      },
      "source": [
        "Ultimately, the Raven's defense needs to understand that Derrick Henry will absolutely be gaining yardage on the ground throughout the game this Sunday.  He is simply too fast and powerful to be able to stop consistently.  The Raven's defense needs to put a focus on containing Henry rather than preventing him entirely.  This means being more disciplined and not trying to blitz and stop him behind the line on first down, but rather play it safe and choke out large runs at the cost of allowing him to gain 4 or 5 yards on first.  This should force more second and medium situations where the Titan's rush game is more predictable and they may be more likely to leave it up to the passing game, where they are less comfortable and Baltimore is better suited towards making stops.    "
      ]
    },
    {
      "cell_type": "markdown",
      "metadata": {
        "id": "gZSADeNJiGvs"
      },
      "source": [
        "#3) 4th Down Conversions\r\n",
        "\r\n",
        "The Ravens were 0/4 on fourth down conversion attempts in the January 2020 game, which was surprising after going 17/24 the whole regular season.  To be fair, the last two were in medium and long yardage situations that would not have been attempted if not trailing in the fourth quarter, but the first two were both 4th & 1 situations in the middle of the field where Baltimore failed to gain anything.  In order to predict if this will remain a problem in Sunday's game, we need to figure out: \r\n",
        "\r\n",
        "a) Is there likely to be 4th and short situations in the middle of the field again?\r\n",
        " \r\n",
        "b) Has the Ravens offense gotten better at converting given they are put in this situation?\r\n",
        "\r\n"
      ]
    },
    {
      "cell_type": "markdown",
      "metadata": {
        "id": "teCOXoXZ-PvZ"
      },
      "source": [
        "In order to answer the first question, let's look at the Titan's Defense in the middle of the field."
      ]
    },
    {
      "cell_type": "code",
      "metadata": {
        "id": "qAYkXrPh-hhz",
        "colab": {
          "base_uri": "https://localhost:8080/",
          "height": 407
        },
        "outputId": "9be80925-f6e3-417c-8563-051459aac9e0"
      },
      "source": [
        "titans_def_2019_fourth_midfield = get_df('https://stathead.com/football/play_finder.cgi?request=1&match=summary_all&sb=0&order_by_asc=0&order_by=yards&year_min=2019&year_max=2019&game_type=E&opp_id=oti&game_num_min=0&game_num_max=99&week_num_min=0&week_num_max=99&quarter%5B%5D=1&quarter%5B%5D=2&quarter%5B%5D=3&quarter%5B%5D=4&quarter%5B%5D=5&minutes_max=15&seconds_max=0&minutes_min=0&seconds_min=0&down%5B%5D=0&down%5B%5D=4&field_pos_min_field=team&field_pos_max_field=opp&field_pos_max=30&end_field_pos_min_field=team&end_field_pos_max_field=team&type%5B%5D=PASS&type%5B%5D=RUSH&type%5B%5D=PUNT&no_play=N&turnover_type%5B%5D=interception&turnover_type%5B%5D=fumble&score_type%5B%5D=touchdown&score_type%5B%5D=field_goal&score_type%5B%5D=safety&rush_direction%5B%5D=LE&rush_direction%5B%5D=LT&rush_direction%5B%5D=LG&rush_direction%5B%5D=M&rush_direction%5B%5D=RG&rush_direction%5B%5D=RT&rush_direction%5B%5D=RE&pass_location%5B%5D=SL&pass_location%5B%5D=SM&pass_location%5B%5D=SR&pass_location%5B%5D=DL&pass_location%5B%5D=DM&pass_location%5B%5D=DR',4)\r\n",
        "titans_def_2020_fourth_midfield = get_df('https://stathead.com/football/play_finder.cgi?request=1&match=summary_all&sb=0&order_by_asc=0&order_by=yards&year_min=2020&year_max=2020&game_type=E&opp_id=oti&game_num_min=0&game_num_max=99&week_num_min=0&week_num_max=99&quarter%5B%5D=1&quarter%5B%5D=2&quarter%5B%5D=3&quarter%5B%5D=4&quarter%5B%5D=5&minutes_max=15&seconds_max=0&minutes_min=0&seconds_min=0&down%5B%5D=0&down%5B%5D=4&field_pos_min_field=team&field_pos_max_field=opp&field_pos_max=30&end_field_pos_min_field=team&end_field_pos_max_field=team&type%5B%5D=PASS&type%5B%5D=RUSH&type%5B%5D=PUNT&no_play=N&turnover_type%5B%5D=interception&turnover_type%5B%5D=fumble&score_type%5B%5D=touchdown&score_type%5B%5D=field_goal&score_type%5B%5D=safety&rush_direction%5B%5D=LE&rush_direction%5B%5D=LT&rush_direction%5B%5D=LG&rush_direction%5B%5D=M&rush_direction%5B%5D=RG&rush_direction%5B%5D=RT&rush_direction%5B%5D=RE&pass_location%5B%5D=SL&pass_location%5B%5D=SM&pass_location%5B%5D=SR&pass_location%5B%5D=DL&pass_location%5B%5D=DM&pass_location%5B%5D=DR',4)\r\n",
        "\r\n",
        "titans_def_midfield_fourth = pd.concat([titans_def_2019_fourth_midfield,titans_def_2020_fourth_midfield])\r\n",
        "\r\n",
        "\r\n",
        "\r\n",
        "titans_def_midfield_fourth = titans_def_midfield_fourth[titans_def_midfield_fourth['Date'].notnull()]\r\n",
        "\r\n",
        "clean_location = lambda df: [100-int(loc.split()[1]) if loc.split()[0] == 'OTI' else int(loc.split()[1]) for loc in df['Location']]\r\n",
        "\r\n",
        "titans_def_midfield_fourth['Location'] = clean_location(titans_def_midfield_fourth)     \r\n",
        "display(titans_def_midfield_fourth)"
      ],
      "execution_count": null,
      "outputs": [
        {
          "output_type": "display_data",
          "data": {
            "text/html": [
              "<div>\n",
              "<style scoped>\n",
              "    .dataframe tbody tr th:only-of-type {\n",
              "        vertical-align: middle;\n",
              "    }\n",
              "\n",
              "    .dataframe tbody tr th {\n",
              "        vertical-align: top;\n",
              "    }\n",
              "\n",
              "    .dataframe thead th {\n",
              "        text-align: right;\n",
              "    }\n",
              "</style>\n",
              "<table border=\"1\" class=\"dataframe\">\n",
              "  <thead>\n",
              "    <tr style=\"text-align: right;\">\n",
              "      <th></th>\n",
              "      <th>Date</th>\n",
              "      <th>Tm</th>\n",
              "      <th>Opp</th>\n",
              "      <th>Quarter</th>\n",
              "      <th>Time</th>\n",
              "      <th>Down</th>\n",
              "      <th>ToGo</th>\n",
              "      <th>Location</th>\n",
              "      <th>Score</th>\n",
              "      <th>Detail</th>\n",
              "      <th>Yds</th>\n",
              "      <th>EPB</th>\n",
              "      <th>EPA</th>\n",
              "      <th>Diff</th>\n",
              "    </tr>\n",
              "  </thead>\n",
              "  <tbody>\n",
              "    <tr>\n",
              "      <th>0</th>\n",
              "      <td>2019-11-10</td>\n",
              "      <td>Chiefs</td>\n",
              "      <td>Titans</td>\n",
              "      <td>3</td>\n",
              "      <td>3:25</td>\n",
              "      <td>4</td>\n",
              "      <td>2</td>\n",
              "      <td>57</td>\n",
              "      <td>19-20</td>\n",
              "      <td>Patrick Mahomes pass complete short left to Da...</td>\n",
              "      <td>10</td>\n",
              "      <td>0.40</td>\n",
              "      <td>3.38</td>\n",
              "      <td>2.98</td>\n",
              "    </tr>\n",
              "    <tr>\n",
              "      <th>1</th>\n",
              "      <td>2019-09-29</td>\n",
              "      <td>Falcons</td>\n",
              "      <td>Titans</td>\n",
              "      <td>4</td>\n",
              "      <td>12:26</td>\n",
              "      <td>4</td>\n",
              "      <td>4</td>\n",
              "      <td>18</td>\n",
              "      <td>10-24</td>\n",
              "      <td>Matt Ryan pass complete short left to Mohamed ...</td>\n",
              "      <td>8</td>\n",
              "      <td>-2.24</td>\n",
              "      <td>0.67</td>\n",
              "      <td>2.91</td>\n",
              "    </tr>\n",
              "    <tr>\n",
              "      <th>2</th>\n",
              "      <td>2019-12-29</td>\n",
              "      <td>Texans</td>\n",
              "      <td>Titans</td>\n",
              "      <td>3</td>\n",
              "      <td>6:35</td>\n",
              "      <td>4</td>\n",
              "      <td>2</td>\n",
              "      <td>58</td>\n",
              "      <td>7-21</td>\n",
              "      <td>A.J. McCarron pass complete short left to Duke...</td>\n",
              "      <td>3</td>\n",
              "      <td>0.46</td>\n",
              "      <td>2.98</td>\n",
              "      <td>2.52</td>\n",
              "    </tr>\n",
              "    <tr>\n",
              "      <th>3</th>\n",
              "      <td>2019-10-27</td>\n",
              "      <td>Buccaneers</td>\n",
              "      <td>Titans</td>\n",
              "      <td>2</td>\n",
              "      <td>11:34</td>\n",
              "      <td>4</td>\n",
              "      <td>1</td>\n",
              "      <td>59</td>\n",
              "      <td>3-14</td>\n",
              "      <td>Jameis Winston up the middle for 2 yards (tack...</td>\n",
              "      <td>2</td>\n",
              "      <td>0.53</td>\n",
              "      <td>2.98</td>\n",
              "      <td>2.45</td>\n",
              "    </tr>\n",
              "    <tr>\n",
              "      <th>4</th>\n",
              "      <td>2019-10-06</td>\n",
              "      <td>Bills</td>\n",
              "      <td>Titans</td>\n",
              "      <td>1</td>\n",
              "      <td>4:55</td>\n",
              "      <td>4</td>\n",
              "      <td>1</td>\n",
              "      <td>59</td>\n",
              "      <td>0-0</td>\n",
              "      <td>Josh Allen up the middle for 2 yards (tackle b...</td>\n",
              "      <td>2</td>\n",
              "      <td>0.53</td>\n",
              "      <td>2.98</td>\n",
              "      <td>2.45</td>\n",
              "    </tr>\n",
              "    <tr>\n",
              "      <th>...</th>\n",
              "      <td>...</td>\n",
              "      <td>...</td>\n",
              "      <td>...</td>\n",
              "      <td>...</td>\n",
              "      <td>...</td>\n",
              "      <td>...</td>\n",
              "      <td>...</td>\n",
              "      <td>...</td>\n",
              "      <td>...</td>\n",
              "      <td>...</td>\n",
              "      <td>...</td>\n",
              "      <td>...</td>\n",
              "      <td>...</td>\n",
              "      <td>...</td>\n",
              "    </tr>\n",
              "    <tr>\n",
              "      <th>55</th>\n",
              "      <td>2020-09-14</td>\n",
              "      <td>Broncos</td>\n",
              "      <td>Titans</td>\n",
              "      <td>1</td>\n",
              "      <td>9:04</td>\n",
              "      <td>4</td>\n",
              "      <td>8</td>\n",
              "      <td>37</td>\n",
              "      <td>0-0</td>\n",
              "      <td>Sam Martin punts 51 yards, returned by Kalif R...</td>\n",
              "      <td>0</td>\n",
              "      <td>-0.91</td>\n",
              "      <td>0.32</td>\n",
              "      <td>1.23</td>\n",
              "    </tr>\n",
              "    <tr>\n",
              "      <th>56</th>\n",
              "      <td>2020-11-12</td>\n",
              "      <td>Colts</td>\n",
              "      <td>Titans</td>\n",
              "      <td>4</td>\n",
              "      <td>3:09</td>\n",
              "      <td>4</td>\n",
              "      <td>2</td>\n",
              "      <td>40</td>\n",
              "      <td>34-17</td>\n",
              "      <td>Rigoberto Sanchez punts 46 yards, returned by ...</td>\n",
              "      <td>0</td>\n",
              "      <td>-0.72</td>\n",
              "      <td>0.14</td>\n",
              "      <td>0.86</td>\n",
              "    </tr>\n",
              "    <tr>\n",
              "      <th>57</th>\n",
              "      <td>2020-09-20</td>\n",
              "      <td>Jaguars</td>\n",
              "      <td>Titans</td>\n",
              "      <td>2</td>\n",
              "      <td>7:43</td>\n",
              "      <td>4</td>\n",
              "      <td>21</td>\n",
              "      <td>40</td>\n",
              "      <td>7-14</td>\n",
              "      <td>Logan Cooke punts 45 yards, returned by Kalif ...</td>\n",
              "      <td>0</td>\n",
              "      <td>-0.72</td>\n",
              "      <td>0.22</td>\n",
              "      <td>0.94</td>\n",
              "    </tr>\n",
              "    <tr>\n",
              "      <th>58</th>\n",
              "      <td>2020-12-06</td>\n",
              "      <td>Browns</td>\n",
              "      <td>Titans</td>\n",
              "      <td>4</td>\n",
              "      <td>5:50</td>\n",
              "      <td>4</td>\n",
              "      <td>10</td>\n",
              "      <td>44</td>\n",
              "      <td>41-21</td>\n",
              "      <td>Jamie Gillan punts 47 yards, fair catch by Kal...</td>\n",
              "      <td>0</td>\n",
              "      <td>-0.46</td>\n",
              "      <td>0.38</td>\n",
              "      <td>0.84</td>\n",
              "    </tr>\n",
              "    <tr>\n",
              "      <th>59</th>\n",
              "      <td>2020-11-29</td>\n",
              "      <td>Colts</td>\n",
              "      <td>Titans</td>\n",
              "      <td>4</td>\n",
              "      <td>1:55</td>\n",
              "      <td>4</td>\n",
              "      <td>10</td>\n",
              "      <td>25</td>\n",
              "      <td>26-45</td>\n",
              "      <td>Jacoby Brissett sacked by Harold Landry for -9...</td>\n",
              "      <td>-9</td>\n",
              "      <td>-1.70</td>\n",
              "      <td>-4.51</td>\n",
              "      <td>-2.81</td>\n",
              "    </tr>\n",
              "  </tbody>\n",
              "</table>\n",
              "<p>160 rows × 14 columns</p>\n",
              "</div>"
            ],
            "text/plain": [
              "          Date          Tm     Opp  Quarter  ... Yds   EPB   EPA  Diff\n",
              "0   2019-11-10      Chiefs  Titans        3  ...  10  0.40  3.38  2.98\n",
              "1   2019-09-29     Falcons  Titans        4  ...   8 -2.24  0.67  2.91\n",
              "2   2019-12-29      Texans  Titans        3  ...   3  0.46  2.98  2.52\n",
              "3   2019-10-27  Buccaneers  Titans        2  ...   2  0.53  2.98  2.45\n",
              "4   2019-10-06       Bills  Titans        1  ...   2  0.53  2.98  2.45\n",
              "..         ...         ...     ...      ...  ...  ..   ...   ...   ...\n",
              "55  2020-09-14     Broncos  Titans        1  ...   0 -0.91  0.32  1.23\n",
              "56  2020-11-12       Colts  Titans        4  ...   0 -0.72  0.14  0.86\n",
              "57  2020-09-20     Jaguars  Titans        2  ...   0 -0.72  0.22  0.94\n",
              "58  2020-12-06      Browns  Titans        4  ...   0 -0.46  0.38  0.84\n",
              "59  2020-11-29       Colts  Titans        4  ...  -9 -1.70 -4.51 -2.81\n",
              "\n",
              "[160 rows x 14 columns]"
            ]
          },
          "metadata": {
            "tags": []
          }
        }
      ]
    },
    {
      "cell_type": "code",
      "metadata": {
        "colab": {
          "base_uri": "https://localhost:8080/",
          "height": 281
        },
        "id": "iDWukmxPB2f4",
        "outputId": "99664e46-b3bc-4e10-ebf0-bf082dcc1fdc"
      },
      "source": [
        "titans_def_midfield_fourth = titans_def_midfield_fourth.sort_values(by=['Date'])\r\n",
        "dates = titans_def_midfield_fourth['Date']\r\n",
        "\r\n",
        "dates_list = [dt.datetime.strptime(date,\"%Y-%m-%d\").date() for date in dates]\r\n",
        "\r\n",
        "n = plt.hist(dates_list,bins=3)\r\n",
        "t = plt.title('Titans Forced 4th downs in the Middle of the Field Over Time')"
      ],
      "execution_count": 38,
      "outputs": [
        {
          "output_type": "display_data",
          "data": {
            "image/png": "[encoded data removed]",
            "text/plain": [
              "<Figure size 432x288 with 1 Axes>"
            ]
          },
          "metadata": {
            "tags": [],
            "needs_background": "light"
          }
        }
      ]
    },
    {
      "cell_type": "code",
      "metadata": {
        "colab": {
          "base_uri": "https://localhost:8080/",
          "height": 281
        },
        "id": "iP32Xu1f4TN3",
        "outputId": "a5bc777a-2a8e-44d3-81d4-76bce6ac4fcd"
      },
      "source": [
        "ax2 = plt.hist(dates_list,bins=45)\r\n",
        "t = plt.title(\"Titans Forced 4th downs in the Middle of the Field Over Time\")"
      ],
      "execution_count": null,
      "outputs": [
        {
          "output_type": "display_data",
          "data": {
            "image/png": "[encoded data removed]",
            "text/plain": [
              "<Figure size 432x288 with 1 Axes>"
            ]
          },
          "metadata": {
            "tags": [],
            "needs_background": "light"
          }
        }
      ]
    },
    {
      "cell_type": "markdown",
      "metadata": {
        "id": "Hh-wT8gt52Rn"
      },
      "source": [
        "These histograms represent the number of fourth down situations forced by the Titan's defense outside of field goal range over the last two seasons.  On both plots the empty space in the middle represents the off season so you can see the difference between the 2019 and 2020 seasons.  Clearly, the Titan's defense was much more proficient at stopping teams on third down in 2019 than they have been in the 2020 season.  The Raven's offense should be able to capitalize on this, preventing fourth down situations in the first place.  "
      ]
    },
    {
      "cell_type": "code",
      "metadata": {
        "id": "-h2sylCB4Bjr",
        "colab": {
          "base_uri": "https://localhost:8080/",
          "height": 525
        },
        "outputId": "2eb5d13f-56e3-4407-f024-50c165fd4c9e"
      },
      "source": [
        "ravens_2019 = get_df('https://stathead.com/football/play_finder.cgi?request=1&match=summary_all&sb=0&order_by_asc=1&order_by=game_date&year_min=2019&year_max=2019&game_type=E&team_id=rav&game_num_min=0&game_num_max=99&week_num_min=0&week_num_max=99&quarter%5B%5D=1&quarter%5B%5D=2&quarter%5B%5D=3&quarter%5B%5D=4&quarter%5B%5D=5&minutes_max=15&seconds_max=0&minutes_min=0&seconds_min=0&down%5B%5D=0&down%5B%5D=3&down%5B%5D=4&yds_to_go_min=1&yds_to_go_max=3&field_pos_min_field=team&field_pos_max_field=opp&field_pos_max=30&end_field_pos_min_field=team&end_field_pos_max_field=team&type%5B%5D=PASS&type%5B%5D=RUSH&no_play=N&turnover_type%5B%5D=interception&turnover_type%5B%5D=fumble&score_type%5B%5D=touchdown&score_type%5B%5D=field_goal&score_type%5B%5D=safety&rush_direction%5B%5D=LE&rush_direction%5B%5D=LT&rush_direction%5B%5D=LG&rush_direction%5B%5D=M&rush_direction%5B%5D=RG&rush_direction%5B%5D=RT&rush_direction%5B%5D=RE&pass_location%5B%5D=SL&pass_location%5B%5D=SM&pass_location%5B%5D=SR&pass_location%5B%5D=DL&pass_location%5B%5D=DM&pass_location%5B%5D=DR',4)\r\n",
        "ravens_2020 = get_df('https://stathead.com/football/play_finder.cgi?request=1&match=summary_all&sb=0&order_by_asc=1&order_by=game_date&year_min=2020&year_max=2020&game_type=E&team_id=rav&game_num_min=0&game_num_max=99&week_num_min=0&week_num_max=99&quarter%5B%5D=1&quarter%5B%5D=2&quarter%5B%5D=3&quarter%5B%5D=4&quarter%5B%5D=5&minutes_max=15&seconds_max=0&minutes_min=0&seconds_min=0&down%5B%5D=0&down%5B%5D=3&down%5B%5D=4&yds_to_go_min=1&yds_to_go_max=3&field_pos_min_field=team&field_pos_max_field=opp&field_pos_max=30&end_field_pos_min_field=team&end_field_pos_max_field=team&type%5B%5D=PASS&type%5B%5D=RUSH&no_play=N&turnover_type%5B%5D=interception&turnover_type%5B%5D=fumble&score_type%5B%5D=touchdown&score_type%5B%5D=field_goal&score_type%5B%5D=safety&rush_direction%5B%5D=LE&rush_direction%5B%5D=LT&rush_direction%5B%5D=LG&rush_direction%5B%5D=M&rush_direction%5B%5D=RG&rush_direction%5B%5D=RT&rush_direction%5B%5D=RE&pass_location%5B%5D=SL&pass_location%5B%5D=SM&pass_location%5B%5D=SR&pass_location%5B%5D=DL&pass_location%5B%5D=DM&pass_location%5B%5D=DR',4)\r\n",
        "ravens_2019 = ravens_2019.sort_values(by='Date')\r\n",
        "ravens_2020 = ravens_2020.sort_values(by='Date')\r\n",
        "\r\n",
        "first_down = lambda df: [1 if row['Yds'] >= row['ToGo'] else 0 for index, row in df.iterrows()]\r\n",
        "ravens_2019['First'] =  first_down(ravens_2019)\r\n",
        "ravens_2020['First'] =  first_down(ravens_2020)\r\n",
        "\r\n",
        "display(ravens_2019.head(5))\r\n",
        "display(ravens_2020.head(5))\r\n",
        "\r\n",
        "ravens_third_2019 = ravens_2019[ravens_2019['Down'] == 3]\r\n",
        "ravens_fourth_2019 = ravens_2019[ravens_2019['Down'] == 4]\r\n",
        "ravens_third_2020 = ravens_2020[ravens_2020['Down'] == 3]\r\n",
        "ravens_fourth_2020 = ravens_2020[ravens_2020['Down'] == 4]\r\n",
        "\r\n",
        "print(\"\\n\")\r\n",
        "print(\"Ravens 3rd and short Conversion Percentage 2019: \" + str(np.sum(ravens_third_2019['First'])/len(ravens_third_2019)))\r\n",
        "print(\"Ravens 3rd and short Conversion Percentage 2020: \" + str(np.sum(ravens_third_2020['First'])/len(ravens_third_2020)))\r\n",
        "print(\"\\n\")\r\n",
        "print(\"Ravens 4th and short Conversion Percentage 2019: \" + str(np.sum(ravens_fourth_2019['First'])/len(ravens_fourth_2019)))\r\n",
        "print(\"Ravens 4th and short Conversion Percentage 2020: \" + str(np.sum(ravens_fourth_2020['First'])/len(ravens_fourth_2020)))\r\n",
        "\r\n"
      ],
      "execution_count": null,
      "outputs": [
        {
          "output_type": "display_data",
          "data": {
            "text/html": [
              "<div>\n",
              "<style scoped>\n",
              "    .dataframe tbody tr th:only-of-type {\n",
              "        vertical-align: middle;\n",
              "    }\n",
              "\n",
              "    .dataframe tbody tr th {\n",
              "        vertical-align: top;\n",
              "    }\n",
              "\n",
              "    .dataframe thead th {\n",
              "        text-align: right;\n",
              "    }\n",
              "</style>\n",
              "<table border=\"1\" class=\"dataframe\">\n",
              "  <thead>\n",
              "    <tr style=\"text-align: right;\">\n",
              "      <th></th>\n",
              "      <th>Date</th>\n",
              "      <th>Tm</th>\n",
              "      <th>Opp</th>\n",
              "      <th>Quarter</th>\n",
              "      <th>Time</th>\n",
              "      <th>Down</th>\n",
              "      <th>ToGo</th>\n",
              "      <th>Location</th>\n",
              "      <th>Score</th>\n",
              "      <th>Detail</th>\n",
              "      <th>Yds</th>\n",
              "      <th>EPB</th>\n",
              "      <th>EPA</th>\n",
              "      <th>Diff</th>\n",
              "      <th>First</th>\n",
              "    </tr>\n",
              "  </thead>\n",
              "  <tbody>\n",
              "    <tr>\n",
              "      <th>0</th>\n",
              "      <td>2019-09-08</td>\n",
              "      <td>Ravens</td>\n",
              "      <td>Dolphins</td>\n",
              "      <td>1</td>\n",
              "      <td>4:28</td>\n",
              "      <td>3</td>\n",
              "      <td>3</td>\n",
              "      <td>RAV 17</td>\n",
              "      <td>20-0</td>\n",
              "      <td>Lamar Jackson pass complete deep middle to Mar...</td>\n",
              "      <td>83</td>\n",
              "      <td>-0.60</td>\n",
              "      <td>7.00</td>\n",
              "      <td>7.60</td>\n",
              "      <td>1</td>\n",
              "    </tr>\n",
              "    <tr>\n",
              "      <th>1</th>\n",
              "      <td>2019-09-08</td>\n",
              "      <td>Ravens</td>\n",
              "      <td>Dolphins</td>\n",
              "      <td>2</td>\n",
              "      <td>9:18</td>\n",
              "      <td>3</td>\n",
              "      <td>1</td>\n",
              "      <td>RAV 34</td>\n",
              "      <td>28-3</td>\n",
              "      <td>Gus Edwards right guard for no gain (tackle by...</td>\n",
              "      <td>0</td>\n",
              "      <td>0.56</td>\n",
              "      <td>-1.11</td>\n",
              "      <td>-1.67</td>\n",
              "      <td>0</td>\n",
              "    </tr>\n",
              "    <tr>\n",
              "      <th>2</th>\n",
              "      <td>2019-09-08</td>\n",
              "      <td>Ravens</td>\n",
              "      <td>Dolphins</td>\n",
              "      <td>4</td>\n",
              "      <td>6:32</td>\n",
              "      <td>3</td>\n",
              "      <td>1</td>\n",
              "      <td>RAV 30</td>\n",
              "      <td>59-10</td>\n",
              "      <td>Gus Edwards left guard for 2 yards (tackle by ...</td>\n",
              "      <td>2</td>\n",
              "      <td>0.30</td>\n",
              "      <td>1.07</td>\n",
              "      <td>0.77</td>\n",
              "      <td>1</td>\n",
              "    </tr>\n",
              "    <tr>\n",
              "      <th>3</th>\n",
              "      <td>2019-09-15</td>\n",
              "      <td>Ravens</td>\n",
              "      <td>Cardinals</td>\n",
              "      <td>1</td>\n",
              "      <td>5:17</td>\n",
              "      <td>3</td>\n",
              "      <td>2</td>\n",
              "      <td>CRD 42</td>\n",
              "      <td>7-0</td>\n",
              "      <td>Lamar Jackson left guard for -1 yards (tackle ...</td>\n",
              "      <td>-1</td>\n",
              "      <td>2.08</td>\n",
              "      <td>0.40</td>\n",
              "      <td>-1.68</td>\n",
              "      <td>0</td>\n",
              "    </tr>\n",
              "    <tr>\n",
              "      <th>4</th>\n",
              "      <td>2019-09-15</td>\n",
              "      <td>Ravens</td>\n",
              "      <td>Cardinals</td>\n",
              "      <td>1</td>\n",
              "      <td>4:39</td>\n",
              "      <td>4</td>\n",
              "      <td>3</td>\n",
              "      <td>CRD 43</td>\n",
              "      <td>7-0</td>\n",
              "      <td>Lamar Jackson pass incomplete deep right inten...</td>\n",
              "      <td>0</td>\n",
              "      <td>0.40</td>\n",
              "      <td>-1.80</td>\n",
              "      <td>-2.20</td>\n",
              "      <td>0</td>\n",
              "    </tr>\n",
              "  </tbody>\n",
              "</table>\n",
              "</div>"
            ],
            "text/plain": [
              "         Date      Tm        Opp  Quarter  Time  ...  Yds   EPB   EPA  Diff First\n",
              "0  2019-09-08  Ravens   Dolphins        1  4:28  ...   83 -0.60  7.00  7.60     1\n",
              "1  2019-09-08  Ravens   Dolphins        2  9:18  ...    0  0.56 -1.11 -1.67     0\n",
              "2  2019-09-08  Ravens   Dolphins        4  6:32  ...    2  0.30  1.07  0.77     1\n",
              "3  2019-09-15  Ravens  Cardinals        1  5:17  ...   -1  2.08  0.40 -1.68     0\n",
              "4  2019-09-15  Ravens  Cardinals        1  4:39  ...    0  0.40 -1.80 -2.20     0\n",
              "\n",
              "[5 rows x 15 columns]"
            ]
          },
          "metadata": {
            "tags": []
          }
        },
        {
          "output_type": "display_data",
          "data": {
            "text/html": [
              "<div>\n",
              "<style scoped>\n",
              "    .dataframe tbody tr th:only-of-type {\n",
              "        vertical-align: middle;\n",
              "    }\n",
              "\n",
              "    .dataframe tbody tr th {\n",
              "        vertical-align: top;\n",
              "    }\n",
              "\n",
              "    .dataframe thead th {\n",
              "        text-align: right;\n",
              "    }\n",
              "</style>\n",
              "<table border=\"1\" class=\"dataframe\">\n",
              "  <thead>\n",
              "    <tr style=\"text-align: right;\">\n",
              "      <th></th>\n",
              "      <th>Date</th>\n",
              "      <th>Tm</th>\n",
              "      <th>Opp</th>\n",
              "      <th>Quarter</th>\n",
              "      <th>Time</th>\n",
              "      <th>Down</th>\n",
              "      <th>ToGo</th>\n",
              "      <th>Location</th>\n",
              "      <th>Score</th>\n",
              "      <th>Detail</th>\n",
              "      <th>Yds</th>\n",
              "      <th>EPB</th>\n",
              "      <th>EPA</th>\n",
              "      <th>Diff</th>\n",
              "      <th>First</th>\n",
              "    </tr>\n",
              "  </thead>\n",
              "  <tbody>\n",
              "    <tr>\n",
              "      <th>0</th>\n",
              "      <td>2020-09-20</td>\n",
              "      <td>Ravens</td>\n",
              "      <td>Texans</td>\n",
              "      <td>3</td>\n",
              "      <td>12:17</td>\n",
              "      <td>3</td>\n",
              "      <td>1</td>\n",
              "      <td>RAV 35</td>\n",
              "      <td>20-10</td>\n",
              "      <td>Gus Edwards left guard for 14 yards (tackle by...</td>\n",
              "      <td>14</td>\n",
              "      <td>0.63</td>\n",
              "      <td>2.19</td>\n",
              "      <td>1.56</td>\n",
              "      <td>1</td>\n",
              "    </tr>\n",
              "    <tr>\n",
              "      <th>1</th>\n",
              "      <td>2020-09-20</td>\n",
              "      <td>Ravens</td>\n",
              "      <td>Texans</td>\n",
              "      <td>4</td>\n",
              "      <td>12:04</td>\n",
              "      <td>4</td>\n",
              "      <td>1</td>\n",
              "      <td>HTX 30</td>\n",
              "      <td>29-13</td>\n",
              "      <td>Mark Ingram left end for 30 yards, touchdown</td>\n",
              "      <td>30</td>\n",
              "      <td>1.52</td>\n",
              "      <td>7.00</td>\n",
              "      <td>5.48</td>\n",
              "      <td>1</td>\n",
              "    </tr>\n",
              "    <tr>\n",
              "      <th>2</th>\n",
              "      <td>2020-09-20</td>\n",
              "      <td>Ravens</td>\n",
              "      <td>Texans</td>\n",
              "      <td>4</td>\n",
              "      <td>6:32</td>\n",
              "      <td>4</td>\n",
              "      <td>1</td>\n",
              "      <td>RAV 36</td>\n",
              "      <td>30-16</td>\n",
              "      <td>Lamar Jackson up the middle for 2 yards (tackl...</td>\n",
              "      <td>2</td>\n",
              "      <td>-0.98</td>\n",
              "      <td>1.47</td>\n",
              "      <td>2.45</td>\n",
              "      <td>1</td>\n",
              "    </tr>\n",
              "    <tr>\n",
              "      <th>3</th>\n",
              "      <td>2020-09-20</td>\n",
              "      <td>Ravens</td>\n",
              "      <td>Texans</td>\n",
              "      <td>4</td>\n",
              "      <td>5:31</td>\n",
              "      <td>3</td>\n",
              "      <td>2</td>\n",
              "      <td>RAV 46</td>\n",
              "      <td>30-16</td>\n",
              "      <td>Gus Edwards left tackle for 15 yards (tackle b...</td>\n",
              "      <td>15</td>\n",
              "      <td>1.29</td>\n",
              "      <td>2.98</td>\n",
              "      <td>1.69</td>\n",
              "      <td>1</td>\n",
              "    </tr>\n",
              "    <tr>\n",
              "      <th>4</th>\n",
              "      <td>2020-09-28</td>\n",
              "      <td>Ravens</td>\n",
              "      <td>Chiefs</td>\n",
              "      <td>1</td>\n",
              "      <td>13:33</td>\n",
              "      <td>3</td>\n",
              "      <td>2</td>\n",
              "      <td>RAV 33</td>\n",
              "      <td>0-0</td>\n",
              "      <td>Lamar Jackson right end for 30 yards (tackle b...</td>\n",
              "      <td>30</td>\n",
              "      <td>0.43</td>\n",
              "      <td>3.12</td>\n",
              "      <td>2.69</td>\n",
              "      <td>1</td>\n",
              "    </tr>\n",
              "  </tbody>\n",
              "</table>\n",
              "</div>"
            ],
            "text/plain": [
              "         Date      Tm     Opp  Quarter   Time  ...  Yds   EPB   EPA  Diff First\n",
              "0  2020-09-20  Ravens  Texans        3  12:17  ...   14  0.63  2.19  1.56     1\n",
              "1  2020-09-20  Ravens  Texans        4  12:04  ...   30  1.52  7.00  5.48     1\n",
              "2  2020-09-20  Ravens  Texans        4   6:32  ...    2 -0.98  1.47  2.45     1\n",
              "3  2020-09-20  Ravens  Texans        4   5:31  ...   15  1.29  2.98  1.69     1\n",
              "4  2020-09-28  Ravens  Chiefs        1  13:33  ...   30  0.43  3.12  2.69     1\n",
              "\n",
              "[5 rows x 15 columns]"
            ]
          },
          "metadata": {
            "tags": []
          }
        },
        {
          "output_type": "stream",
          "text": [
            "\n",
            "\n",
            "Ravens 3rd and short Conversion Percentage 2019: 0.75\n",
            "Ravens 3rd and short Conversion Percentage 2020: 0.7837837837837838\n",
            "\n",
            "\n",
            "Ravens 4th and short Conversion Percentage 2019: 0.5833333333333334\n",
            "Ravens 4th and short Conversion Percentage 2020: 0.9090909090909091\n"
          ],
          "name": "stdout"
        }
      ]
    },
    {
      "cell_type": "markdown",
      "metadata": {
        "id": "LO6nAbtIXHXJ"
      },
      "source": [
        "The Ravens offense has not only improved in 3rd and short situations, preventing 4th down from becoming a problem, but they have also improved in 4th and short situations.  Given the Titans defense's reduction in third down stops outside of field goal range and the improvement in 3rd and 4th down situations from the Raven's offense, turnovers on downs should prove to be much less of a problem this Sunday than it was in the same matchup a year ago.  "
      ]
    },
    {
      "cell_type": "markdown",
      "metadata": {
        "id": "DZmTindPYca7"
      },
      "source": [
        "#Conclusion\r\n",
        "\r\n",
        "As I said at the beginning of this project, Baltimore's revenge efforts this Sunday will likely rely on fixing these key mistakes.  Based on my analysis of the two teams I can say that:\r\n",
        "\r\n",
        "1. Interceptions and Fumbles from Lamar Jackson will likely still be a problem, but not to the degree they were last year.\r\n",
        "\r\n",
        "2. Derrick Henry is still a major issue, but (contrary to popular belief) he is containable.  If Baltimore can stop him from gaining major yardage on first downs he becomes much more manageable, and they can force the Titans into passing situation where they are less comfortable.  \r\n",
        "\r\n",
        "3. There will likely be fewer fourth down situations for Baltimore due to the Titans inability to make stops outside of field goal range.  Furthermore, the Ravens are more likely to be able to convert on this situations if they do arise, preventing Tennessee from receiving the ball in a great field position.    \r\n",
        "\r\n",
        "This game will almost definitely be hard fought, but the advantage has to go the Ravens, at the very least to put on a better performance than they did last year.  Anything can happen in playoff football, but I wouldn't bet against Baltimore this Sunday.  The Ravens are a dangerous team, but they are going to have to remain disciplined and focused if they want to avenge their embarrasing defeat last season.     "
      ]
    }
  ]
}